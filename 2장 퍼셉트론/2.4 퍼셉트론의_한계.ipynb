{
  "nbformat": 4,
  "nbformat_minor": 0,
  "metadata": {
    "colab": {
      "name": "2.4 퍼셉트론의 한계.ipynb",
      "provenance": [],
      "collapsed_sections": [],
      "authorship_tag": "ABX9TyO2L4oT0T23yESMBRA22fO4",
      "include_colab_link": true
    },
    "kernelspec": {
      "name": "python3",
      "display_name": "Python 3"
    },
    "language_info": {
      "name": "python"
    }
  },
  "cells": [
    {
      "cell_type": "markdown",
      "metadata": {
        "id": "view-in-github",
        "colab_type": "text"
      },
      "source": [
        "<a href=\"https://colab.research.google.com/github/garden-jun/DeepLearning-from-scratch/blob/main/2%EC%9E%A5%20%ED%8D%BC%EC%85%89%ED%8A%B8%EB%A1%A0/2.4%20%ED%8D%BC%EC%85%89%ED%8A%B8%EB%A1%A0%EC%9D%98_%ED%95%9C%EA%B3%84.ipynb\" target=\"_parent\"><img src=\"https://colab.research.google.com/assets/colab-badge.svg\" alt=\"Open In Colab\"/></a>"
      ]
    },
    {
      "cell_type": "markdown",
      "source": [
        "# **2.4.1 도전! XOR 게이트**  \n",
        "XOR 게이트는 배타적 논리합이라는 논리 회로입니다. 두개의 입력값중 하나만 1일때 1을 출력합니다.  \n",
        "('배타적'이란 자기 외에는 거부한다는 의미이다.)  \n",
        "\n",
        "\n",
        "## <예시>  \n",
        "### 입력 &nbsp; -> &nbsp; 출력  \n",
        "(0, 0) &nbsp;&nbsp;&nbsp;&nbsp; -> &nbsp;&nbsp;&nbsp;&nbsp;&nbsp;&nbsp; 0  \n",
        "(0, 1) &nbsp;&nbsp;&nbsp;&nbsp; -> &nbsp;&nbsp;&nbsp;&nbsp;&nbsp;&nbsp; 1  \n",
        "(1, 0) &nbsp;&nbsp;&nbsp;&nbsp; -> &nbsp;&nbsp;&nbsp;&nbsp;&nbsp;&nbsp; 1  \n",
        "(1, 1) &nbsp;&nbsp;&nbsp;&nbsp; -> &nbsp;&nbsp;&nbsp;&nbsp;&nbsp;&nbsp; 0  \n",
        "\n",
        "위의 예시를 만족시키는 가중치1, 가중치2, 임계값의 예시를 **구현할 수 없다.**"
      ],
      "metadata": {
        "id": "INZmN7-dBvut"
      }
    },
    {
      "cell_type": "markdown",
      "source": [
        "### 퍼셉트론은 2개의 입력신호를 2차원 평면에 표현하였을 때, **직선으로만** 점들을 수 있다."
      ],
      "metadata": {
        "id": "RGXPx55YEay0"
      }
    },
    {
      "cell_type": "markdown",
      "source": [
        "# **2.4.2 선형과 비선형**\n",
        "### 영역을 곡선으로 구분하면 퍼셉트론의 단점을 해결 할 수 있다.  \n",
        "선형 영역: 직선으로 나누어진 영역  \n",
        "비선형 영역: 곡선으로 나누어진 영역"
      ],
      "metadata": {
        "id": "QqRpuQtoFWHM"
      }
    }
  ]
}