{
  "nbformat": 4,
  "nbformat_minor": 0,
  "metadata": {
    "colab": {
      "name": "2.5 다층 퍼셉트론이 충돌한다면.ipynb",
      "provenance": [],
      "collapsed_sections": [],
      "authorship_tag": "ABX9TyO5qF6bpH6TyqVGduSjHbSa",
      "include_colab_link": true
    },
    "kernelspec": {
      "name": "python3",
      "display_name": "Python 3"
    },
    "language_info": {
      "name": "python"
    }
  },
  "cells": [
    {
      "cell_type": "markdown",
      "metadata": {
        "id": "view-in-github",
        "colab_type": "text"
      },
      "source": [
        "<a href=\"https://colab.research.google.com/github/garden-jun/DeepLearning-from-scratch/blob/main/2%EC%9E%A5%20%ED%8D%BC%EC%85%89%ED%8A%B8%EB%A1%A0/2.5%20%EB%8B%A4%EC%B8%B5%20%ED%8D%BC%EC%85%89%ED%8A%B8%EB%A1%A0%EC%9D%B4%20%EC%B6%A9%EB%8F%8C%ED%95%9C%EB%8B%A4%EB%A9%B4.ipynb\" target=\"_parent\"><img src=\"https://colab.research.google.com/assets/colab-badge.svg\" alt=\"Open In Colab\"/></a>"
      ]
    },
    {
      "cell_type": "markdown",
      "source": [
        "### 퍼셉트론으로는 해결할 수 없던 XOR게이트를 **'퍼셉트론 층을 쌓아'** 생각해보고 해결해 보자"
      ],
      "metadata": {
        "id": "TYku5C0TGTUS"
      }
    },
    {
      "cell_type": "markdown",
      "source": [
        "# **2.5.1 기존 게이트 조합하기**\n",
        "AND, NAND, OR 게이트를 조합하여 XOR 게이트를 만들 수 있다."
      ],
      "metadata": {
        "id": "O_NUE55wGJEh"
      }
    },
    {
      "cell_type": "markdown",
      "source": [
        "# **2.5.2 XOR 게이트 구현하기**\n",
        "AND, NANA, OR을 사용하면 쉽게 구현할 수 있다!"
      ],
      "metadata": {
        "id": "o3M20rVfKImK"
      }
    },
    {
      "cell_type": "code",
      "source": [
        "def XOR(x1, x2):\n",
        "  s1 = NAND(x1, x2)\n",
        "  s2 = OR(x1, x2)\n",
        "  y = AND(s1, s2)\n",
        "  return y"
      ],
      "metadata": {
        "id": "bDYH488_AY5-"
      },
      "execution_count": null,
      "outputs": []
    },
    {
      "cell_type": "code",
      "source": [
        "XOR(0, 0) # 0을 출력\n",
        "XOR(0, 1) # 1을 출력\n",
        "XOR(1, 0) # 1을 출력\n",
        "XOR(1, 1) # 0을 출력"
      ],
      "metadata": {
        "id": "-LrreWMRAqMt"
      },
      "execution_count": null,
      "outputs": []
    },
    {
      "cell_type": "markdown",
      "source": [
        "XOR과 같은 2층 퍼셉트론에서는 0층에서 1층으로 신호가 전달되고, 이어서 1층에서 2층으로 신호가 전달된다.  \n",
        "(문헌에 따라서는 0층,1층,2층 총 3개의 층이 있으므로 '3층 퍼셉트론'이라고 칭하는 경우도 있다.)"
      ],
      "metadata": {
        "id": "NS1Yo3itBQLL"
      }
    }
  ]
}