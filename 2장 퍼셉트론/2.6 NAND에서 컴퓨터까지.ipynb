{
  "nbformat": 4,
  "nbformat_minor": 0,
  "metadata": {
    "colab": {
      "name": "2.6 NAND에서 컴퓨터까지.ipynb",
      "provenance": [],
      "collapsed_sections": [],
      "authorship_tag": "ABX9TyP5ZULcxUBIIBZBWSQ0mRvE",
      "include_colab_link": true
    },
    "kernelspec": {
      "name": "python3",
      "display_name": "Python 3"
    },
    "language_info": {
      "name": "python"
    }
  },
  "cells": [
    {
      "cell_type": "markdown",
      "metadata": {
        "id": "view-in-github",
        "colab_type": "text"
      },
      "source": [
        "<a href=\"https://colab.research.google.com/github/garden-jun/DeepLearning-from-scratch/blob/main/2%EC%9E%A5%20%ED%8D%BC%EC%85%89%ED%8A%B8%EB%A1%A0/2.6%20NAND%EC%97%90%EC%84%9C%20%EC%BB%B4%ED%93%A8%ED%84%B0%EA%B9%8C%EC%A7%80.ipynb\" target=\"_parent\"><img src=\"https://colab.research.google.com/assets/colab-badge.svg\" alt=\"Open In Colab\"/></a>"
      ]
    },
    {
      "cell_type": "markdown",
      "source": [
        "다층 퍼셉트론은 복잡한 회로를 만들 수 있다.\n",
        "덧셈을 처리하는 가산기는 물론, 2진수를 10진수로 변환하는 인코더, 뿐만 아니라 컴퓨터 또한 다층 퍼셉트론을 통해 만들 수 있다  \n",
        "\n",
        "### 퍼셉트론은 이론상 컴퓨터가 수행하는 처리도 모두 표현할 수 있다"
      ],
      "metadata": {
        "id": "5hxiz5_zBxX3"
      }
    },
    {
      "cell_type": "markdown",
      "source": [
        ""
      ],
      "metadata": {
        "id": "l86c2i1UCLAI"
      }
    }
  ]
}