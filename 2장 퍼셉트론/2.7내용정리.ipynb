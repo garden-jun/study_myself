{
  "nbformat": 4,
  "nbformat_minor": 0,
  "metadata": {
    "colab": {
      "name": "2.7 내용 정리.ipynb",
      "provenance": [],
      "collapsed_sections": [],
      "authorship_tag": "ABX9TyMqEgYIzwrKqLGs1D1JBqrH",
      "include_colab_link": true
    },
    "kernelspec": {
      "name": "python3",
      "display_name": "Python 3"
    },
    "language_info": {
      "name": "python"
    }
  },
  "cells": [
    {
      "cell_type": "markdown",
      "metadata": {
        "id": "view-in-github",
        "colab_type": "text"
      },
      "source": [
        "<a href=\"https://colab.research.google.com/github/garden-jun/DeepLearning-from-scratch/blob/main/2_7_%EB%82%B4%EC%9A%A9_%EC%A0%95%EB%A6%AC.ipynb\" target=\"_parent\"><img src=\"https://colab.research.google.com/assets/colab-badge.svg\" alt=\"Open In Colab\"/></a>"
      ]
    },
    {
      "cell_type": "markdown",
      "source": [
        "* 퍼셉트론은 입출력을 갖춘 알고리즘이다. 입력을 주면 정해진 규칙에 따른 값을 출력한다.\n",
        "* 퍼셉트론에서는 '가중치'와 '편향'을 매개변수로 설정한다.\n",
        "* 퍼셉트론으로 AND, OR, 게이트 등의 논리 회로를 표현할 수 있다.\n",
        "* XOR 게이트는 단층 퍼셉트론으로는 표현할 수 없다.\n",
        "* 2층 퍼셉트론을 이용하면 XOR게이트를 표현할 수 있다.\n",
        "* 단층 퍼셉트론은 직선형 영역만 표현할 수 있고, 다층 퍼셉트론은 비선형 영역도 표현할 수 있다.\n",
        "* 다층 퍼셉트론은 (이론상) 컴퓨터를 표현할 수 있다.\n"
      ],
      "metadata": {
        "id": "9XaL-r2gCqOg"
      }
    }
  ]
}
